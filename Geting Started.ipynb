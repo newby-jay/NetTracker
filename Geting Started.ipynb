{
 "cells": [
  {
   "cell_type": "markdown",
   "metadata": {},
   "source": [
    "# Instructions to get started\n",
    "  1. Run the following commands\n",
    "```python setup.py build```\n",
    "```python setup.py install```\n",
    "  4. Use `pip` to install any packages you don't already have (make sure you have pims, and pims_nd2)\n",
    "  5. Unzip the neural network parameter files and put them somewhere \n",
    "  6. Alter the `modelPath` variable below to wherever you put the model files\n",
    "  7. Alter the `vidPath` variable to the folder containing some ND2 videos you want to process"
   ]
  },
  {
   "cell_type": "code",
   "execution_count": 1,
   "metadata": {},
   "outputs": [
    {
     "name": "stdout",
     "output_type": "stream",
     "text": [
      "Populating the interactive namespace from numpy and matplotlib\n"
     ]
    }
   ],
   "source": [
    "%pylab inline\n",
    "%config InlineBackend.figure_format = 'retina'\n",
    "from ipywidgets import interact\n",
    "import ipywidgets as widgets\n",
    "# import warnings\n",
    "# warnings.filterwarnings(\"ignore\")\n",
    "from IPython.display import display, HTML\n",
    "import os\n",
    "import pandas as pd\n",
    "import time\n",
    "from io import BytesIO\n",
    "\n",
    "import tensorflow as tf\n",
    "import NetTracker as NT\n",
    "import pims\n",
    "import pims_nd2\n",
    "\n",
    "\n",
    "modelPath = 'models/3L-RNN-3D-set1-EMA'\n",
    "vidPath = '<video path>'\n",
    "\n",
    "\n",
    "def getFiles(path, kind='nd2'):\n",
    "    kind = '.'+kind\n",
    "    fn = len(kind)\n",
    "    filenames = []\n",
    "    for root, dirs, files in os.walk(path):\n",
    "        for f in files:\n",
    "            if f[-fn:] == kind:\n",
    "                filenames.append(os.path.join(root, f[:-fn]))\n",
    "    print('Total number of {0} files: '.format(kind[1:]), len(filenames))\n",
    "    return filenames "
   ]
  },
  {
   "cell_type": "code",
   "execution_count": null,
   "metadata": {},
   "outputs": [],
   "source": [
    "filenames = getFiles(vidPath)\n",
    "for fn in filenames[:1]:\n",
    "    _, vidName = os.path.split(fn)\n",
    "    VIDS = []\n",
    "    with pims_nd2.ND2_Reader(fn + '.nd2') as frames:\n",
    "        frames.bundle_axes = ['y', 'x', 'z', 'c']\n",
    "        vid_all_colors = array(frames)\n",
    "        vid1 = vid_all_colors[..., 2]\n",
    "        vid2 = vid_all_colors[..., 3]\n",
    "        Nt, Ny, Nx, Nz = vid1.shape\n",
    "        shape = (Nt, Ny, Nx, Nz)\n",
    "        VIDS.append({'videoData': vid1})\n",
    "        VIDS.append({'videoData': vid2})\n",
    "    for data, color_channel in zip(VIDS, ['_C3', '_C4']):\n",
    "        ## first, get the mean and standard deviation which is used by the neural net\n",
    "        vm = data['videoData'].mean(axis=(1, 2, 3))\n",
    "        vs = (float64(data['videoData'])**2).mean(axis=(1, 2, 3))\n",
    "        data['stats'] = array([vm, vs]).T.reshape(Nt, 1, 2)\n",
    "        ## second, set various parameters, only two need to be changed (marked as \"REQUIRED\")\n",
    "        data['metadata'] = {\n",
    "            'fileName': vidName, ## don't change this\n",
    "            'chunkIndex': (0, 0, 0, 0), ## don't change this\n",
    "            'dt': 1, ## you don't need to set this, it doesn't do anything\n",
    "            'dxy': 0.11, ## REQUIRED (if 2D video, can just set to 1)\n",
    "            'dz': 0.3, ## REQUIRED (if 2D video, can just set to 1)\n",
    "            'vidShape': shape ## don't change this\n",
    "        }\n",
    "        nn_obj = NT.NeuralNet()\n",
    "        nn = nn_obj.process(('data', data), modelPath)\n",
    "        seg_obj = NT.Segment()\n",
    "        ## next() is a function used by advanced iterators to get the next element in a sequence, it \n",
    "        ## is used here because the code was originally written for an Apache Beam pipeline, which uses\n",
    "        ## the fancy iterators\n",
    "        seg = seg_obj.process(next(nn))\n",
    "        _, seg_out = next(seg)\n",
    "        df = seg_out['pointSet']\n",
    "        # df.to_csv(fn + color_channel + '.csv')\n"
   ]
  },
  {
   "cell_type": "code",
   "execution_count": null,
   "metadata": {},
   "outputs": [],
   "source": []
  }
 ],
 "metadata": {
  "kernelspec": {
   "display_name": "Python 3 (ipykernel)",
   "language": "python",
   "name": "python3"
  },
  "language_info": {
   "codemirror_mode": {
    "name": "ipython",
    "version": 3
   },
   "file_extension": ".py",
   "mimetype": "text/x-python",
   "name": "python",
   "nbconvert_exporter": "python",
   "pygments_lexer": "ipython3",
   "version": "3.9.7"
  }
 },
 "nbformat": 4,
 "nbformat_minor": 2
}
